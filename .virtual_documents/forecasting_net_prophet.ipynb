





# Install the required libraries
!pip install prophet


# Import the required libraries and dependencies
import pandas as pd
from prophet import Prophet
import datetime as dt
import numpy as np
%matplotlib inline








# Store the data in a Pandas DataFrame
# Set the "Date" column as the Datetime Index.

df_mercado_trends = pd.read_csv(
    "https://static.bc-edx.com/ai/ail-v-1-0/m8/lms/datasets/google_hourly_search_trends.csv",
    index_col='Date',
    parse_dates=True
).dropna()

# Review the first and last five rows of the DataFrame
display(df_mercado_trends.head())
display(df_mercado_trends.tail())


# Review the data types of the DataFrame using the info function
df_mercado_trends.info()


# Slice the DataFrame to just the month of May 2020
may_2020 = df_mercado_trends['2020-05-01':'2020-05-31']

# Plot to visualize the data for May 2020
may_2020.plot(
    title="Google Search Trends - May 2020",
    ylabel="Search Traffic",
    figsize=(12, 6)
)





# Calculate the sum of the total search traffic for May 2020
traffic_may_2020 = may_2020['Search Trends'].sum()

# View the traffic_may_2020 value
print(f"Search Trends    {traffic_may_2020}")


# Calcluate the monthly median search traffic across all months
# Group the DataFrame by index year and then index month, chain the sum and then the median functions
monthly_traffic = df_mercado_trends.resample('M').sum()
median_monthly_traffic = monthly_traffic['Search Trends'].median()

# View the median_monthly_traffic value
print(f"Search Trends    {median_monthly_traffic}")


# Compare the seach traffic for the month of May 2020 to the overall monthly median value
comparison_result = traffic_may_2020 / median_monthly_traffic
comparison_result














# Group the hourly search data to plot the average traffic by the day of week, using `df.index.hour`
average_traffic_by_hour = df_mercado_trends.groupby(df_mercado_trends.index.hour).mean()

average_traffic_by_hour = average_traffic_by_hour.reset_index()
average_traffic_by_hour.columns = ['Hour', 'Search Trends']
df_mercado_trends['Hour'] = df_mercado_trends.index.hour
df_mercado_trends.groupby('Hour')['Search Trends'].mean().plot(title='Average Search Traffic by Hour of Day', ylabel='Search Trends', xlabel='Hour', figsize=(10, 6))





# Group the hourly search data to plot the average traffic by the day of week, using `df.index.isocalendar().day`.
average_traffic_by_day_of_week = df_mercado_trends.groupby(df_mercado_trends.index.dayofweek).mean()
average_traffic_by_day_of_week['Search Trends'].plot(kind='line', title='Average Search Traffic by Day of Week', xlabel='Day of Week (0=Monday, 6=Sunday)', ylabel='Average Search Traffic', marker='o', figsize=(10, 6))





# Group the hourly search data to plot the average traffic by the week of the year using `df.index.isocalendar().week`.
average_traffic_by_week = df_mercado_trends.groupby(df_mercado_trends.index.isocalendar().week).mean()

average_traffic_by_week = average_traffic_by_week.reset_index()

average_traffic_by_week.plot(x='week', y='Search Trends', kind='line', title='Average Search Traffic by Week of the Year', ylabel='Search Trends', xlabel='Week of the Year', figsize=(10, 6))














# Upload the "mercado_stock_price.csv" file into Colab, then store in a Pandas DataFrame
# Set the "date" column as the Datetime Index.
df_mercado_stock = pd.read_csv(
    "https://static.bc-edx.com/ai/ail-v-1-0/m8/lms/datasets/mercado_stock_price.csv",
    index_col="date",
    parse_dates=True
).dropna()

# View the first and last five rows of the DataFrame
display(df_mercado_stock.head())
display(df_mercado_stock.tail())


# Visualize the closing price of the df_mercado_stock DataFrame
df_mercado_stock['close'].plot(title='Mercado Stock Closing Price', ylabel='Closing Price (USD)', xlabel='Date', figsize=(10, 6))


# Concatenate the df_mercado_stock DataFrame with the df_mercado_trends DataFrame
# Concatenate the DataFrame by columns (axis=1), and drop and rows with only one column of data
df_combined = pd.concat([df_mercado_stock, df_mercado_trends], axis=1)
df_combined = df_combined.dropna(how='any')
# View the first and last five rows of the DataFrame
display(df_combined.head())
display(df_combined.tail())





# For the combined dataframe, slice to just the first half of 2020 (2020-01 through 2020-06)
first_half_2020 = df_combined.loc['2020-01':'2020-06']

# View the first and last five rows of first_half_2020 DataFrame
display(first_half_2020.head())
display(first_half_2020.tail())



# Visualize the close and Search Trends data
# Plot each column on a separate axes using the following syntax
# `plot(subplots=True)`
first_half_2020[['close', 'Search Trends']].plot(subplots=True, figsize=(10, 8), title='Close Price and Search Trends (First Half of 2020)')











# Create a new column in the mercado_stock_trends_df DataFrame called Lagged Search Trends
# This column should shift the Search Trends information by one hour
df_combined['Lagged Search Trends'] = df_combined['Search Trends'].shift(1)

# View the first few rows to check the new column
display(df_combined.head())



# Create a new column in the mercado_stock_trends_df DataFrame called Stock Volatility
# This column should calculate the standard deviation of the closing stock price return data over a 4 period rolling window
df_combined['Stock Volatility'] = df_combined['close'].pct_change().rolling(window=4).std()


# View the first few rows to check the new column
display(df_combined.head())



# Visualize the stock volatility
df_combined['Stock Volatility'].plot(title='Stock Volatility', ylabel='Volatility', xlabel='Date', figsize=(10, 6))






# Create a new column in the mercado_stock_trends_df DataFrame called Hourly Stock Return
# This column should calculate hourly return percentage of the closing price
df_combined['Hourly Stock Return'] = df_combined['close'].pct_change()


# View the first and last five rows of the mercado_stock_trends_df DataFrame
display(df_combined.head())
display(df_combined.tail())





# Construct correlation table of Stock Volatility, Lagged Search Trends, and Hourly Stock Return
df_combined[['Stock Volatility', 'Lagged Search Trends', 'Hourly Stock Return']].corr()














# Using the df_mercado_trends DataFrame, reset the index so the date information is no longer the index
prophet_df = df_mercado_trends.reset_index()

# Label the columns ds and y so that the syntax is recognized by Prophet
prophet_df = prophet_df[['Date', 'Search Trends']]  # Keep only the necessary columns
prophet_df.rename(columns={'Date': 'ds', 'Search Trends': 'y'}, inplace=True)

# Drop an NaN values from the prophet_df DataFrame
prophet_df.dropna(inplace=True)

# View the first and last five rows of the mercado_prophet_df DataFrame
display(prophet_df.head())
display(prophet_df.tail())



# Call the Prophet function, store as an object
model = Prophet()
model


# Fit the time-series model.
model.fit(prophet_df)


# Create a future dataframe to hold predictions
# Make the prediction go out as far as 2000 hours (approx 80 days)
future_mercado_trends = model.make_future_dataframe(periods=2000, freq='H')

# View the last five rows of the future_mercado_trends DataFrame
future_mercado_trends.tail()


# Make the predictions for the trend data using the future_mercado_trends DataFrame
forecast_mercado_trends = model.predict(future_mercado_trends)

# Display the first five rows of the forecast_mercado_trends DataFrame
forecast_mercado_trends.head()





# Plot the Prophet predictions for the Mercado trends data
model.plot(forecast_mercado_trends)











# Set the index in the forecast_mercado_trends DataFrame to the ds datetime column
forecast_mercado_trends.set_index('ds', inplace=True)

# View the only the yhat,yhat_lower and yhat_upper columns from the DataFrame
forecast_summary = forecast_mercado_trends[['yhat', 'yhat_lower', 'yhat_upper']]
forecast_summary.head()





# From the forecast_mercado_trends DataFrame, plot the data to visualize
#  the yhat, yhat_lower, and yhat_upper columns over the last 2000 hours
last_2000_hours = forecast_summary.tail(2000)
last_2000_hours[['yhat', 'yhat_lower', 'yhat_upper']].plot(figsize=(10, 6), title='Forecasted Search Trends Over the Last 2000 Hours')


# Reset the index in the forecast_mercado_trends DataFrame
forecast_mercado_trends.reset_index(inplace=True)

# Use the plot_components function to visualize the forecast results
# for the forecast_mercado_trends DataFrame
model.plot_components(forecast_mercado_trends)












